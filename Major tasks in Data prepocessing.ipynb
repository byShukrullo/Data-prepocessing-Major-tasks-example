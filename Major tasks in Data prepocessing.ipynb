{
 "cells": [
  {
   "cell_type": "code",
   "execution_count": 1,
   "id": "aae163cd",
   "metadata": {},
   "outputs": [],
   "source": [
    "import pandas as pd\n",
    "import numpy as np"
   ]
  },
  {
   "cell_type": "markdown",
   "id": "b2546f34",
   "metadata": {},
   "source": [
    "# 1. Data cleaning"
   ]
  },
  {
   "cell_type": "code",
   "execution_count": null,
   "id": "87c97b67",
   "metadata": {},
   "outputs": [
    {
     "name": "stdout",
     "output_type": "stream",
     "text": [
      "\n",
      "1. Cleaned Data:\n",
      "  Patient_ID   Age  Blood_Pressure  Glucose\n",
      "0        001  45.0           120.0    110.0\n",
      "1        002  46.0           130.0    105.0\n",
      "2        003  33.0           130.0    100.0\n",
      "3        004  60.0           140.0    105.0\n"
     ]
    },
    {
     "name": "stderr",
     "output_type": "stream",
     "text": [
      "/var/folders/qb/my_74k5x5nb9_k8vjb5_bykc0000gn/T/ipykernel_13208/882492349.py:16: FutureWarning: A value is trying to be set on a copy of a DataFrame or Series through chained assignment using an inplace method.\n",
      "The behavior will change in pandas 3.0. This inplace method will never work because the intermediate object on which we are setting values always behaves as a copy.\n",
      "\n",
      "For example, when doing 'df[col].method(value, inplace=True)', try using 'df.method({col: value}, inplace=True)' or df[col] = df[col].method(value) instead, to perform the operation inplace on the original object.\n",
      "\n",
      "\n",
      "  data['Age'].fillna(data['Age'].mean(), inplace=True)\n",
      "/var/folders/qb/my_74k5x5nb9_k8vjb5_bykc0000gn/T/ipykernel_13208/882492349.py:17: FutureWarning: A value is trying to be set on a copy of a DataFrame or Series through chained assignment using an inplace method.\n",
      "The behavior will change in pandas 3.0. This inplace method will never work because the intermediate object on which we are setting values always behaves as a copy.\n",
      "\n",
      "For example, when doing 'df[col].method(value, inplace=True)', try using 'df.method({col: value}, inplace=True)' or df[col] = df[col].method(value) instead, to perform the operation inplace on the original object.\n",
      "\n",
      "\n",
      "  data['Glucose'].fillna(data['Glucose'].mean(), inplace=True)\n"
     ]
    }
   ],
   "source": [
    "data = pd.DataFrame({\n",
    "    'Patient_ID': ['001', '002', '003', '004'],\n",
    "    'Age': [45, np.nan, 33, 60],\n",
    "    'Blood_Pressure': [120, 130, 'error', 140],\n",
    "    'Glucose': [110, 105, 100, np.nan]\n",
    "})\n",
    "\n",
    "# Replace 'error' with median blood pressure\n",
    "bp_values = pd.to_numeric(data['Blood_Pressure'], errors='coerce')\n",
    "data['Blood_Pressure'] = bp_values.fillna(bp_values.median())\n",
    "\n",
    "# Fill missing values with mean\n",
    "data['Age'].fillna(data['Age'].mean(), inplace=True)\n",
    "data['Glucose'].fillna(data['Glucose'].mean(), inplace=True)\n",
    "\n",
    "print(\"\\n1. Cleaned Data:\")\n",
    "print(data)"
   ]
  },
  {
   "cell_type": "markdown",
   "id": "17465e9e",
   "metadata": {},
   "source": [
    "# 2. Data Integration"
   ]
  },
  {
   "cell_type": "code",
   "execution_count": 3,
   "id": "104d31ac",
   "metadata": {},
   "outputs": [
    {
     "name": "stdout",
     "output_type": "stream",
     "text": [
      "\n",
      "2. Integrated Data:\n",
      "  Patient_ID Name  Age  Blood_Pressure  Glucose\n",
      "0        001  Ali   45             120      110\n"
     ]
    }
   ],
   "source": [
    "patients = pd.DataFrame({'Patient_ID': ['001'], 'Name': ['Ali'], 'Age': [45]})\n",
    "vitals = pd.DataFrame({'Patient_ID': ['001'], 'Blood_Pressure': [120], 'Glucose': [110]})\n",
    "merged = pd.merge(patients, vitals, on='Patient_ID')\n",
    "print(\"\\n2. Integrated Data:\")\n",
    "print(merged)"
   ]
  },
  {
   "cell_type": "markdown",
   "id": "e28cee93",
   "metadata": {},
   "source": [
    "# 3. Data Transformation\n"
   ]
  },
  {
   "cell_type": "code",
   "execution_count": 4,
   "id": "93ed438b",
   "metadata": {},
   "outputs": [
    {
     "name": "stdout",
     "output_type": "stream",
     "text": [
      "\n",
      "3. Transformed Data:\n",
      "   Age  Glucose  Diagnosis\n",
      "0   45      1.0          0\n",
      "1   33      0.0          1\n"
     ]
    }
   ],
   "source": [
    "from sklearn.preprocessing import MinMaxScaler, LabelEncoder\n",
    "\n",
    "trans_data = pd.DataFrame({'Age': [45, 33], 'Glucose': [110, 100], 'Diagnosis': ['Diabetes', 'Normal']})\n",
    "scaler = MinMaxScaler()\n",
    "trans_data[['Glucose']] = scaler.fit_transform(trans_data[['Glucose']])\n",
    "trans_data['Diagnosis'] = LabelEncoder().fit_transform(trans_data['Diagnosis'])\n",
    "print(\"\\n3. Transformed Data:\")\n",
    "print(trans_data)\n"
   ]
  },
  {
   "cell_type": "markdown",
   "id": "5243ed88",
   "metadata": {},
   "source": [
    "# 4. Data Reduction\n"
   ]
  },
  {
   "cell_type": "code",
   "execution_count": 5,
   "id": "14702a7e",
   "metadata": {},
   "outputs": [
    {
     "name": "stdout",
     "output_type": "stream",
     "text": [
      "\n",
      "4. Reduced Data:\n",
      "   Age  Blood_Pressure  Glucose  Diagnosis\n",
      "0   45             120      110          1\n",
      "1   33             110      100          0\n"
     ]
    }
   ],
   "source": [
    "reduction_data = pd.DataFrame({\n",
    "    'Age': [45, 33],\n",
    "    'Blood_Pressure': [120, 110],\n",
    "    'Glucose': [110, 100],\n",
    "    'Cholesterol': [200, 180],\n",
    "    'BMI': [25, 27],\n",
    "    'Diagnosis': [1, 0]\n",
    "})\n",
    "\n",
    "reduced = reduction_data[['Age', 'Blood_Pressure', 'Glucose', 'Diagnosis']]\n",
    "print(\"\\n4. Reduced Data:\")\n",
    "print(reduced)"
   ]
  },
  {
   "cell_type": "markdown",
   "id": "06aee598",
   "metadata": {},
   "source": [
    "# 5. Data Discretization\n"
   ]
  },
  {
   "cell_type": "code",
   "execution_count": 7,
   "id": "05afca41",
   "metadata": {},
   "outputs": [
    {
     "name": "stdout",
     "output_type": "stream",
     "text": [
      "\n",
      "5. Discretized Data:\n",
      "  Age_Group Glucose_Level\n",
      "0     Adult  Pre-Diabetes\n",
      "1     Adult  Pre-Diabetes\n",
      "2    Senior      Diabetes\n"
     ]
    }
   ],
   "source": [
    "discretize_data = pd.DataFrame({'Age': [45, 33, 72], 'Glucose': [110, 100, 140]})\n",
    "\n",
    "def age_group(age):\n",
    "    if age <= 18:\n",
    "        return 'Child'\n",
    "    elif age <= 59:\n",
    "        return 'Adult'\n",
    "    else:\n",
    "        return 'Senior'\n",
    "\n",
    "def glucose_level(g):\n",
    "    if g < 100:\n",
    "        return 'Normal'\n",
    "    elif g < 126:\n",
    "        return 'Pre-Diabetes'\n",
    "    else:\n",
    "        return 'Diabetes'\n",
    "\n",
    "discretize_data['Age_Group'] = discretize_data['Age'].apply(age_group)\n",
    "discretize_data['Glucose_Level'] = discretize_data['Glucose'].apply(glucose_level)\n",
    "print(\"\\n5. Discretized Data:\")\n",
    "print(discretize_data[['Age_Group', 'Glucose_Level']])\n",
    "\n"
   ]
  },
  {
   "cell_type": "markdown",
   "id": "04312712",
   "metadata": {},
   "source": [
    "# 6. Data Binning\n"
   ]
  },
  {
   "cell_type": "code",
   "execution_count": 8,
   "id": "f069b205",
   "metadata": {},
   "outputs": [
    {
     "name": "stdout",
     "output_type": "stream",
     "text": [
      "\n",
      "6. Binned Data:\n",
      "    BMI     Category\n",
      "0  18.5  Underweight\n",
      "1  21.0       Normal\n",
      "2  23.5       Normal\n",
      "3  27.0       Normal\n",
      "4  30.5   Overweight\n",
      "5  35.0   Overweight\n"
     ]
    }
   ],
   "source": [
    "bin_data = pd.DataFrame({'BMI': [18.5, 21.0, 23.5, 27.0, 30.5, 35.0]})\n",
    "bins = [0, 20, 30, np.inf]\n",
    "labels = ['Underweight', 'Normal', 'Overweight']\n",
    "bin_data['Category'] = pd.cut(bin_data['BMI'], bins=bins, labels=labels)\n",
    "print(\"\\n6. Binned Data:\")\n",
    "print(bin_data)"
   ]
  }
 ],
 "metadata": {
  "kernelspec": {
   "display_name": "Python 3",
   "language": "python",
   "name": "python3"
  },
  "language_info": {
   "codemirror_mode": {
    "name": "ipython",
    "version": 3
   },
   "file_extension": ".py",
   "mimetype": "text/x-python",
   "name": "python",
   "nbconvert_exporter": "python",
   "pygments_lexer": "ipython3",
   "version": "3.13.2"
  }
 },
 "nbformat": 4,
 "nbformat_minor": 5
}
